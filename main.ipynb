{
  "nbformat": 4,
  "nbformat_minor": 0,
  "metadata": {
    "colab": {
      "provenance": []
    },
    "kernelspec": {
      "name": "python3",
      "display_name": "Python 3"
    },
    "language_info": {
      "name": "python"
    }
  },
  "cells": [
    {
      "cell_type": "code",
      "execution_count": null,
      "metadata": {
        "colab": {
          "base_uri": "https://localhost:8080/"
        },
        "id": "5XES5F5S42VL",
        "outputId": "997ac28d-1544-44f5-f5ab-682484f874d4"
      },
      "outputs": [
        {
          "output_type": "stream",
          "name": "stderr",
          "text": [
            "<ipython-input-2-6b10a8e873ac>:7: UserWarning: Parsing dates in DD/MM/YYYY format when dayfirst=False (the default) was specified. This may lead to inconsistently parsed dates! Specify a format to ensure consistent parsing.\n",
            "  df = pd.read_csv(\"/content/NPStimeseries.csv\", parse_dates=[\"Survey date\"])\n"
          ]
        },
        {
          "output_type": "stream",
          "name": "stdout",
          "text": [
            "Average NPS: 6.8412\n",
            "No immediate adjustments required.\n"
          ]
        }
      ],
      "source": [
        "import pandas as pd\n",
        "from faker import Faker\n",
        "import random\n",
        "from cryptography.fernet import Fernet\n",
        "\n",
        "# Load the dataset\n",
        "df = pd.read_csv(\"/content/NPStimeseries.csv\", parse_dates=[\"Survey date\"])\n",
        "\n",
        "# Function to send surveys at pre-decided intervals\n",
        "def send_surveys():\n",
        "    last_survey_date = df['Survey date'].max()\n",
        "    next_survey_date = last_survey_date + pd.DateOffset(months=3)\n",
        "\n",
        "    new_surveys_data = {\n",
        "        'ID': range(df['ID'].max() + 1, df['ID'].max() + 11),\n",
        "        'Market': [random.choice(['US', 'MEX', 'UK']) for _ in range(10)],\n",
        "        'Survey date': [next_survey_date] * 10,\n",
        "        'Customer Name': [Faker().name() for _ in range(10)],\n",
        "        'Month': [random.randint(1, 12) for _ in range(10)],wh\n",
        "        'Quarter': [random.randint(1, 4) for _ in range(10)],\n",
        "        'NPS': [random.randint(0, 10) for _ in range(10)],\n",
        "    }\n",
        "\n",
        "    new_surveys = pd.DataFrame(new_surveys_data)\n",
        "    df_updated = pd.concat([df, new_surveys], ignore_index=True)\n",
        "    df_updated.to_csv(\"NPStimeseries_updated.csv\", index=False)\n",
        "\n",
        "# Function to filter out spam surveys\n",
        "def filter_spam():\n",
        "    valid_responses = df[df['NPS'].between(0, 10)]\n",
        "    valid_responses.to_csv(\"NPStimeseries_filtered.csv\", index=False)\n",
        "\n",
        "# Function to analyze survey results and derive insights\n",
        "def analyze_results(df):\n",
        "    avg_nps = df['NPS'].mean()\n",
        "    print(f\"Average NPS: {avg_nps}\")\n",
        "\n",
        "# Function to protect customer information\n",
        "def protect_customer_information(df):\n",
        "    fake = Faker()\n",
        "\n",
        "    # Anonymize Customer Name using fake names\n",
        "    df['Customer Name'] = [fake.name() for _ in range(len(df))]\n",
        "\n",
        "    # Encrypt sensitive information (assuming 'ID' and 'Market' are sensitive)\n",
        "    key = Fernet.generate_key()\n",
        "    cipher_suite = Fernet(key)\n",
        "\n",
        "    # Encrypt 'ID'\n",
        "    df['ID'] = df['ID'].apply(lambda x: cipher_suite.encrypt(str(x).encode()))\n",
        "\n",
        "    # Encrypt 'Market'\n",
        "    df['Market'] = df['Market'].apply(lambda x: cipher_suite.encrypt(str(x).encode()))\n",
        "\n",
        "    # Save encryption key securely or use a key management service in production\n",
        "\n",
        "    return df, key\n",
        "\n",
        "# Function to adjust product/service based on feedback\n",
        "def adjust_product_service(df):\n",
        "    # For simplicity, let's assume adjustments are made based on average NPS\n",
        "    avg_nps = df['NPS'].mean()\n",
        "\n",
        "    if avg_nps < 6:\n",
        "        print(\"Adjustments needed to improve customer satisfaction.\")\n",
        "    elif avg_nps > 8:\n",
        "        print(\"Positive feedback! Product/service is performing well.\")\n",
        "    else:\n",
        "        print(\"No immediate adjustments required.\")\n",
        "\n",
        "send_surveys()\n",
        "filter_spam()\n",
        "df_protected, encryption_key = protect_customer_information(df)\n",
        "df_protected.to_csv(\"NPStimeseries_protected.csv\", index=False)\n",
        "\n",
        "# Save the encryption key securely or use a key management service in production\n",
        "with open(\"encryption_key.txt\", \"wb\") as key_file:\n",
        "    key_file.write(encryption_key)\n",
        "\n",
        "analyze_results(df_protected)\n",
        "adjust_product_service(df_protected)\n",
        "analyze_trends(df_protected)\n",
        "adjust_survey_frequency(df_protected)"
      ]
    }
  ]
}