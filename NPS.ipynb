{
 "cells": [
  {
   "cell_type": "code",
   "execution_count": 3,
   "id": "1f62fef5-6eab-4544-8233-7062a7e1e48b",
   "metadata": {},
   "outputs": [],
   "source": [
    "import pandas as pd\n",
    "import numpy as np\n",
    "import matplotlib.pyplot as plt\n",
    "import seaborn as sns"
   ]
  },
  {
   "cell_type": "code",
   "execution_count": 4,
   "id": "f07711e5-b5d2-49ca-acf6-766180fad3a4",
   "metadata": {},
   "outputs": [
    {
     "data": {
      "text/html": [
       "<div>\n",
       "<style scoped>\n",
       "    .dataframe tbody tr th:only-of-type {\n",
       "        vertical-align: middle;\n",
       "    }\n",
       "\n",
       "    .dataframe tbody tr th {\n",
       "        vertical-align: top;\n",
       "    }\n",
       "\n",
       "    .dataframe thead th {\n",
       "        text-align: right;\n",
       "    }\n",
       "</style>\n",
       "<table border=\"1\" class=\"dataframe\">\n",
       "  <thead>\n",
       "    <tr style=\"text-align: right;\">\n",
       "      <th></th>\n",
       "      <th>ID</th>\n",
       "      <th>Market</th>\n",
       "      <th>Survey date</th>\n",
       "      <th>Customer Name</th>\n",
       "      <th>Month</th>\n",
       "      <th>Quarter</th>\n",
       "      <th>NPS</th>\n",
       "    </tr>\n",
       "  </thead>\n",
       "  <tbody>\n",
       "    <tr>\n",
       "      <th>0</th>\n",
       "      <td>1000</td>\n",
       "      <td>US</td>\n",
       "      <td>01/09/2021</td>\n",
       "      <td>Krista Richards</td>\n",
       "      <td>9</td>\n",
       "      <td>3</td>\n",
       "      <td>10</td>\n",
       "    </tr>\n",
       "    <tr>\n",
       "      <th>1</th>\n",
       "      <td>1001</td>\n",
       "      <td>MEX</td>\n",
       "      <td>07/11/2021</td>\n",
       "      <td>Monica King</td>\n",
       "      <td>11</td>\n",
       "      <td>4</td>\n",
       "      <td>9</td>\n",
       "    </tr>\n",
       "    <tr>\n",
       "      <th>2</th>\n",
       "      <td>1002</td>\n",
       "      <td>UK</td>\n",
       "      <td>25/12/2021</td>\n",
       "      <td>Ricky Armstrong</td>\n",
       "      <td>12</td>\n",
       "      <td>4</td>\n",
       "      <td>0</td>\n",
       "    </tr>\n",
       "    <tr>\n",
       "      <th>3</th>\n",
       "      <td>1003</td>\n",
       "      <td>UK</td>\n",
       "      <td>01/10/2021</td>\n",
       "      <td>Andrea Foley</td>\n",
       "      <td>10</td>\n",
       "      <td>4</td>\n",
       "      <td>10</td>\n",
       "    </tr>\n",
       "    <tr>\n",
       "      <th>4</th>\n",
       "      <td>1004</td>\n",
       "      <td>UK</td>\n",
       "      <td>01/03/2021</td>\n",
       "      <td>Jerry Garcia</td>\n",
       "      <td>3</td>\n",
       "      <td>1</td>\n",
       "      <td>8</td>\n",
       "    </tr>\n",
       "    <tr>\n",
       "      <th>...</th>\n",
       "      <td>...</td>\n",
       "      <td>...</td>\n",
       "      <td>...</td>\n",
       "      <td>...</td>\n",
       "      <td>...</td>\n",
       "      <td>...</td>\n",
       "      <td>...</td>\n",
       "    </tr>\n",
       "    <tr>\n",
       "      <th>4995</th>\n",
       "      <td>5995</td>\n",
       "      <td>MEX</td>\n",
       "      <td>02/07/2021</td>\n",
       "      <td>Deborah Peterson</td>\n",
       "      <td>7</td>\n",
       "      <td>3</td>\n",
       "      <td>7</td>\n",
       "    </tr>\n",
       "    <tr>\n",
       "      <th>4996</th>\n",
       "      <td>5996</td>\n",
       "      <td>MEX</td>\n",
       "      <td>17/03/2021</td>\n",
       "      <td>Jordan Smith</td>\n",
       "      <td>3</td>\n",
       "      <td>1</td>\n",
       "      <td>10</td>\n",
       "    </tr>\n",
       "    <tr>\n",
       "      <th>4997</th>\n",
       "      <td>5997</td>\n",
       "      <td>UK</td>\n",
       "      <td>07/01/2021</td>\n",
       "      <td>Carly Scott</td>\n",
       "      <td>1</td>\n",
       "      <td>1</td>\n",
       "      <td>8</td>\n",
       "    </tr>\n",
       "    <tr>\n",
       "      <th>4998</th>\n",
       "      <td>5998</td>\n",
       "      <td>UK</td>\n",
       "      <td>14/10/2021</td>\n",
       "      <td>Eugene Burke</td>\n",
       "      <td>10</td>\n",
       "      <td>4</td>\n",
       "      <td>8</td>\n",
       "    </tr>\n",
       "    <tr>\n",
       "      <th>4999</th>\n",
       "      <td>5999</td>\n",
       "      <td>MEX</td>\n",
       "      <td>17/12/2021</td>\n",
       "      <td>Edwin Zavala</td>\n",
       "      <td>12</td>\n",
       "      <td>4</td>\n",
       "      <td>9</td>\n",
       "    </tr>\n",
       "  </tbody>\n",
       "</table>\n",
       "<p>5000 rows × 7 columns</p>\n",
       "</div>"
      ],
      "text/plain": [
       "        ID Market Survey date     Customer Name  Month  Quarter  NPS\n",
       "0     1000     US  01/09/2021   Krista Richards      9        3   10\n",
       "1     1001    MEX  07/11/2021       Monica King     11        4    9\n",
       "2     1002     UK  25/12/2021   Ricky Armstrong     12        4    0\n",
       "3     1003     UK  01/10/2021      Andrea Foley     10        4   10\n",
       "4     1004     UK  01/03/2021      Jerry Garcia      3        1    8\n",
       "...    ...    ...         ...               ...    ...      ...  ...\n",
       "4995  5995    MEX  02/07/2021  Deborah Peterson      7        3    7\n",
       "4996  5996    MEX  17/03/2021      Jordan Smith      3        1   10\n",
       "4997  5997     UK  07/01/2021       Carly Scott      1        1    8\n",
       "4998  5998     UK  14/10/2021      Eugene Burke     10        4    8\n",
       "4999  5999    MEX  17/12/2021      Edwin Zavala     12        4    9\n",
       "\n",
       "[5000 rows x 7 columns]"
      ]
     },
     "execution_count": 4,
     "metadata": {},
     "output_type": "execute_result"
    }
   ],
   "source": [
    "df = pd.read_csv(\"NPStimeseries.csv\")\n",
    "df"
   ]
  },
  {
   "cell_type": "code",
   "execution_count": 5,
   "id": "ba371646-3feb-4473-8a46-a4d22f9ff8ae",
   "metadata": {},
   "outputs": [
    {
     "data": {
      "text/html": [
       "<div>\n",
       "<style scoped>\n",
       "    .dataframe tbody tr th:only-of-type {\n",
       "        vertical-align: middle;\n",
       "    }\n",
       "\n",
       "    .dataframe tbody tr th {\n",
       "        vertical-align: top;\n",
       "    }\n",
       "\n",
       "    .dataframe thead th {\n",
       "        text-align: right;\n",
       "    }\n",
       "</style>\n",
       "<table border=\"1\" class=\"dataframe\">\n",
       "  <thead>\n",
       "    <tr style=\"text-align: right;\">\n",
       "      <th></th>\n",
       "      <th>ID</th>\n",
       "      <th>Market</th>\n",
       "      <th>Survey date</th>\n",
       "      <th>Customer Name</th>\n",
       "      <th>Month</th>\n",
       "      <th>Quarter</th>\n",
       "      <th>NPS</th>\n",
       "    </tr>\n",
       "  </thead>\n",
       "  <tbody>\n",
       "    <tr>\n",
       "      <th>0</th>\n",
       "      <td>1000</td>\n",
       "      <td>US</td>\n",
       "      <td>01/09/2021</td>\n",
       "      <td>Krista Richards</td>\n",
       "      <td>9</td>\n",
       "      <td>3</td>\n",
       "      <td>10</td>\n",
       "    </tr>\n",
       "    <tr>\n",
       "      <th>1</th>\n",
       "      <td>1001</td>\n",
       "      <td>MEX</td>\n",
       "      <td>07/11/2021</td>\n",
       "      <td>Monica King</td>\n",
       "      <td>11</td>\n",
       "      <td>4</td>\n",
       "      <td>9</td>\n",
       "    </tr>\n",
       "    <tr>\n",
       "      <th>2</th>\n",
       "      <td>1002</td>\n",
       "      <td>UK</td>\n",
       "      <td>25/12/2021</td>\n",
       "      <td>Ricky Armstrong</td>\n",
       "      <td>12</td>\n",
       "      <td>4</td>\n",
       "      <td>0</td>\n",
       "    </tr>\n",
       "    <tr>\n",
       "      <th>3</th>\n",
       "      <td>1003</td>\n",
       "      <td>UK</td>\n",
       "      <td>01/10/2021</td>\n",
       "      <td>Andrea Foley</td>\n",
       "      <td>10</td>\n",
       "      <td>4</td>\n",
       "      <td>10</td>\n",
       "    </tr>\n",
       "    <tr>\n",
       "      <th>4</th>\n",
       "      <td>1004</td>\n",
       "      <td>UK</td>\n",
       "      <td>01/03/2021</td>\n",
       "      <td>Jerry Garcia</td>\n",
       "      <td>3</td>\n",
       "      <td>1</td>\n",
       "      <td>8</td>\n",
       "    </tr>\n",
       "  </tbody>\n",
       "</table>\n",
       "</div>"
      ],
      "text/plain": [
       "     ID Market Survey date    Customer Name  Month  Quarter  NPS\n",
       "0  1000     US  01/09/2021  Krista Richards      9        3   10\n",
       "1  1001    MEX  07/11/2021      Monica King     11        4    9\n",
       "2  1002     UK  25/12/2021  Ricky Armstrong     12        4    0\n",
       "3  1003     UK  01/10/2021     Andrea Foley     10        4   10\n",
       "4  1004     UK  01/03/2021     Jerry Garcia      3        1    8"
      ]
     },
     "execution_count": 5,
     "metadata": {},
     "output_type": "execute_result"
    }
   ],
   "source": [
    "df.head()"
   ]
  },
  {
   "cell_type": "code",
   "execution_count": 6,
   "id": "8a76202d-b3f8-45b1-bbcd-179d925e5b98",
   "metadata": {},
   "outputs": [
    {
     "data": {
      "text/plain": [
       "ID                int64\n",
       "Market           object\n",
       "Survey date      object\n",
       "Customer Name    object\n",
       "Month             int64\n",
       "Quarter           int64\n",
       "NPS               int64\n",
       "dtype: object"
      ]
     },
     "execution_count": 6,
     "metadata": {},
     "output_type": "execute_result"
    }
   ],
   "source": [
    "df.dtypes"
   ]
  },
  {
   "cell_type": "markdown",
   "id": "f11c890c-36e2-4c45-8229-95a39b51ee6b",
   "metadata": {},
   "source": [
    "### Checking for missing values"
   ]
  },
  {
   "cell_type": "code",
   "execution_count": 7,
   "id": "a679f973-c3f1-4dd7-b5af-6ef52a81e4e6",
   "metadata": {},
   "outputs": [
    {
     "data": {
      "text/plain": [
       "ID               0\n",
       "Market           0\n",
       "Survey date      0\n",
       "Customer Name    0\n",
       "Month            0\n",
       "Quarter          0\n",
       "NPS              0\n",
       "dtype: int64"
      ]
     },
     "execution_count": 7,
     "metadata": {},
     "output_type": "execute_result"
    }
   ],
   "source": [
    "df.isnull().sum()"
   ]
  },
  {
   "cell_type": "code",
   "execution_count": 8,
   "id": "09f77f73-aaf8-4fdc-b3b3-d2665c3a15e3",
   "metadata": {},
   "outputs": [
    {
     "data": {
      "text/plain": [
       "0"
      ]
     },
     "execution_count": 8,
     "metadata": {},
     "output_type": "execute_result"
    }
   ],
   "source": [
    "df.isnull().sum().sum()"
   ]
  },
  {
   "cell_type": "code",
   "execution_count": null,
   "id": "23fbcc32-3263-44fe-8da0-727a2679258b",
   "metadata": {},
   "outputs": [],
   "source": [
    "## No missing values in the dataset"
   ]
  },
  {
   "cell_type": "markdown",
   "id": "1070e542-67b1-40ca-bb17-661465a5cf73",
   "metadata": {},
   "source": [
    "### Duplicates"
   ]
  },
  {
   "cell_type": "code",
   "execution_count": 9,
   "id": "f1bc4ea0-4dbc-4fd1-b8a1-b36b11dc26bb",
   "metadata": {},
   "outputs": [
    {
     "name": "stdout",
     "output_type": "stream",
     "text": [
      "0       False\n",
      "1       False\n",
      "2       False\n",
      "3       False\n",
      "4       False\n",
      "        ...  \n",
      "4995    False\n",
      "4996    False\n",
      "4997    False\n",
      "4998    False\n",
      "4999    False\n",
      "Length: 5000, dtype: bool\n"
     ]
    }
   ],
   "source": [
    "print(df.duplicated())"
   ]
  },
  {
   "cell_type": "markdown",
   "id": "dfb74e0d-63bf-4263-899c-aef739af8cb6",
   "metadata": {},
   "source": [
    "### Id and customer name"
   ]
  },
  {
   "cell_type": "code",
   "execution_count": 10,
   "id": "75de1da9-798b-4df4-8deb-3ebec0d8b5b5",
   "metadata": {},
   "outputs": [
    {
     "data": {
      "text/html": [
       "<div>\n",
       "<style scoped>\n",
       "    .dataframe tbody tr th:only-of-type {\n",
       "        vertical-align: middle;\n",
       "    }\n",
       "\n",
       "    .dataframe tbody tr th {\n",
       "        vertical-align: top;\n",
       "    }\n",
       "\n",
       "    .dataframe thead th {\n",
       "        text-align: right;\n",
       "    }\n",
       "</style>\n",
       "<table border=\"1\" class=\"dataframe\">\n",
       "  <thead>\n",
       "    <tr style=\"text-align: right;\">\n",
       "      <th></th>\n",
       "      <th>ID</th>\n",
       "      <th>Customer Name</th>\n",
       "    </tr>\n",
       "  </thead>\n",
       "  <tbody>\n",
       "    <tr>\n",
       "      <th>0</th>\n",
       "      <td>1000</td>\n",
       "      <td>Krista Richards</td>\n",
       "    </tr>\n",
       "    <tr>\n",
       "      <th>1</th>\n",
       "      <td>1001</td>\n",
       "      <td>Monica King</td>\n",
       "    </tr>\n",
       "    <tr>\n",
       "      <th>2</th>\n",
       "      <td>1002</td>\n",
       "      <td>Ricky Armstrong</td>\n",
       "    </tr>\n",
       "    <tr>\n",
       "      <th>3</th>\n",
       "      <td>1003</td>\n",
       "      <td>Andrea Foley</td>\n",
       "    </tr>\n",
       "    <tr>\n",
       "      <th>4</th>\n",
       "      <td>1004</td>\n",
       "      <td>Jerry Garcia</td>\n",
       "    </tr>\n",
       "    <tr>\n",
       "      <th>...</th>\n",
       "      <td>...</td>\n",
       "      <td>...</td>\n",
       "    </tr>\n",
       "    <tr>\n",
       "      <th>4995</th>\n",
       "      <td>5995</td>\n",
       "      <td>Deborah Peterson</td>\n",
       "    </tr>\n",
       "    <tr>\n",
       "      <th>4996</th>\n",
       "      <td>5996</td>\n",
       "      <td>Jordan Smith</td>\n",
       "    </tr>\n",
       "    <tr>\n",
       "      <th>4997</th>\n",
       "      <td>5997</td>\n",
       "      <td>Carly Scott</td>\n",
       "    </tr>\n",
       "    <tr>\n",
       "      <th>4998</th>\n",
       "      <td>5998</td>\n",
       "      <td>Eugene Burke</td>\n",
       "    </tr>\n",
       "    <tr>\n",
       "      <th>4999</th>\n",
       "      <td>5999</td>\n",
       "      <td>Edwin Zavala</td>\n",
       "    </tr>\n",
       "  </tbody>\n",
       "</table>\n",
       "<p>5000 rows × 2 columns</p>\n",
       "</div>"
      ],
      "text/plain": [
       "        ID     Customer Name\n",
       "0     1000   Krista Richards\n",
       "1     1001       Monica King\n",
       "2     1002   Ricky Armstrong\n",
       "3     1003      Andrea Foley\n",
       "4     1004      Jerry Garcia\n",
       "...    ...               ...\n",
       "4995  5995  Deborah Peterson\n",
       "4996  5996      Jordan Smith\n",
       "4997  5997       Carly Scott\n",
       "4998  5998      Eugene Burke\n",
       "4999  5999      Edwin Zavala\n",
       "\n",
       "[5000 rows x 2 columns]"
      ]
     },
     "execution_count": 10,
     "metadata": {},
     "output_type": "execute_result"
    }
   ],
   "source": [
    "df_new = df.iloc[:, [0,3]]\n",
    "df_new"
   ]
  },
  {
   "cell_type": "markdown",
   "id": "00973699-2ae3-4e97-af14-84d85de17778",
   "metadata": {},
   "source": [
    "### Customer names and NPS"
   ]
  },
  {
   "cell_type": "code",
   "execution_count": 11,
   "id": "0ff973b4-6079-4f70-a3e1-87eb0155baa0",
   "metadata": {},
   "outputs": [
    {
     "data": {
      "text/html": [
       "<div>\n",
       "<style scoped>\n",
       "    .dataframe tbody tr th:only-of-type {\n",
       "        vertical-align: middle;\n",
       "    }\n",
       "\n",
       "    .dataframe tbody tr th {\n",
       "        vertical-align: top;\n",
       "    }\n",
       "\n",
       "    .dataframe thead th {\n",
       "        text-align: right;\n",
       "    }\n",
       "</style>\n",
       "<table border=\"1\" class=\"dataframe\">\n",
       "  <thead>\n",
       "    <tr style=\"text-align: right;\">\n",
       "      <th></th>\n",
       "      <th>Customer Name</th>\n",
       "      <th>NPS</th>\n",
       "    </tr>\n",
       "  </thead>\n",
       "  <tbody>\n",
       "    <tr>\n",
       "      <th>0</th>\n",
       "      <td>Krista Richards</td>\n",
       "      <td>10</td>\n",
       "    </tr>\n",
       "    <tr>\n",
       "      <th>1</th>\n",
       "      <td>Monica King</td>\n",
       "      <td>9</td>\n",
       "    </tr>\n",
       "    <tr>\n",
       "      <th>2</th>\n",
       "      <td>Ricky Armstrong</td>\n",
       "      <td>0</td>\n",
       "    </tr>\n",
       "    <tr>\n",
       "      <th>3</th>\n",
       "      <td>Andrea Foley</td>\n",
       "      <td>10</td>\n",
       "    </tr>\n",
       "    <tr>\n",
       "      <th>4</th>\n",
       "      <td>Jerry Garcia</td>\n",
       "      <td>8</td>\n",
       "    </tr>\n",
       "    <tr>\n",
       "      <th>...</th>\n",
       "      <td>...</td>\n",
       "      <td>...</td>\n",
       "    </tr>\n",
       "    <tr>\n",
       "      <th>4995</th>\n",
       "      <td>Deborah Peterson</td>\n",
       "      <td>7</td>\n",
       "    </tr>\n",
       "    <tr>\n",
       "      <th>4996</th>\n",
       "      <td>Jordan Smith</td>\n",
       "      <td>10</td>\n",
       "    </tr>\n",
       "    <tr>\n",
       "      <th>4997</th>\n",
       "      <td>Carly Scott</td>\n",
       "      <td>8</td>\n",
       "    </tr>\n",
       "    <tr>\n",
       "      <th>4998</th>\n",
       "      <td>Eugene Burke</td>\n",
       "      <td>8</td>\n",
       "    </tr>\n",
       "    <tr>\n",
       "      <th>4999</th>\n",
       "      <td>Edwin Zavala</td>\n",
       "      <td>9</td>\n",
       "    </tr>\n",
       "  </tbody>\n",
       "</table>\n",
       "<p>5000 rows × 2 columns</p>\n",
       "</div>"
      ],
      "text/plain": [
       "         Customer Name  NPS\n",
       "0      Krista Richards   10\n",
       "1          Monica King    9\n",
       "2      Ricky Armstrong    0\n",
       "3         Andrea Foley   10\n",
       "4         Jerry Garcia    8\n",
       "...                ...  ...\n",
       "4995  Deborah Peterson    7\n",
       "4996      Jordan Smith   10\n",
       "4997       Carly Scott    8\n",
       "4998      Eugene Burke    8\n",
       "4999      Edwin Zavala    9\n",
       "\n",
       "[5000 rows x 2 columns]"
      ]
     },
     "execution_count": 11,
     "metadata": {},
     "output_type": "execute_result"
    }
   ],
   "source": [
    "df_new = df.iloc[:, [3,6]]\n",
    "df_new"
   ]
  },
  {
   "cell_type": "markdown",
   "id": "0570c4a7-79d0-4725-a900-a27b65935679",
   "metadata": {},
   "source": [
    "### Maximum Nps rating"
   ]
  },
  {
   "cell_type": "code",
   "execution_count": 12,
   "id": "d3e675c1-60cc-4007-962a-d218485933cf",
   "metadata": {},
   "outputs": [
    {
     "data": {
      "text/plain": [
       "NPS\n",
       "10    1597\n",
       "9      712\n",
       "8      680\n",
       "0      565\n",
       "5      321\n",
       "7      292\n",
       "6      206\n",
       "3      181\n",
       "1      172\n",
       "2      154\n",
       "4      120\n",
       "Name: count, dtype: int64"
      ]
     },
     "execution_count": 12,
     "metadata": {},
     "output_type": "execute_result"
    }
   ],
   "source": [
    "users= df['NPS'].value_counts()\n",
    "users"
   ]
  },
  {
   "cell_type": "code",
   "execution_count": 13,
   "id": "8105a6c2-c196-4946-996c-0e1a87132668",
   "metadata": {},
   "outputs": [
    {
     "data": {
      "image/png": "[encoded data removed]",
      "text/plain": [
       "<Figure size 600x300 with 1 Axes>"
      ]
     },
     "metadata": {},
     "output_type": "display_data"
    }
   ],
   "source": [
    "plt.figure(figsize=(6, 3))\n",
    "sns.histplot(df['NPS'], bins=10, kde=True)\n",
    "plt.title('Distribution of NPS Scores')\n",
    "plt.xlabel('NPS Score')\n",
    "plt.ylabel('Frequency')\n",
    "plt.show()"
   ]
  },
  {
   "cell_type": "markdown",
   "id": "cc6b2197-7e61-4a4d-accb-39409ff525cd",
   "metadata": {},
   "source": [
    "### NPS score calculation"
   ]
  },
  {
   "cell_type": "code",
   "execution_count": 14,
   "id": "f1f47196-956d-4a99-b473-f0f4bfd892a4",
   "metadata": {},
   "outputs": [
    {
     "name": "stdout",
     "output_type": "stream",
     "text": [
      "Net Promoter Score (NPS): 11.80\n"
     ]
    }
   ],
   "source": [
    "promoters = df[df['NPS'] >= 9].shape[0]\n",
    "detractors = df[df['NPS'] <= 6].shape[0]\n",
    "total_responses = df.shape[0]\n",
    "\n",
    "nps = promoters / total_responses * 100 - detractors / total_responses * 100\n",
    "print(f\"Net Promoter Score (NPS): {nps:.2f}\")"
   ]
  },
  {
   "cell_type": "markdown",
   "id": "2718f67b-bd8c-4603-87b4-15359c6ed764",
   "metadata": {},
   "source": [
    "### Visualise the NPS categories(Promoters, Passives, Detractors) using a bar chart"
   ]
  },
  {
   "cell_type": "code",
   "execution_count": 15,
   "id": "ba6ee4f7-9b80-4ae7-921e-53114a4aebdd",
   "metadata": {},
   "outputs": [
    {
     "data": {
      "image/png": "[encoded data removed]",
      "text/plain": [
       "<Figure size 500x400 with 1 Axes>"
      ]
     },
     "metadata": {},
     "output_type": "display_data"
    }
   ],
   "source": [
    "nps_categories = ['Promoters', 'Passives', 'Detractors']\n",
    "nps_counts = [promoters, total_responses - promoters - detractors, detractors]\n",
    "\n",
    "plt.figure(figsize=(5, 4))\n",
    "sns.barplot(x=nps_categories, y=nps_counts)\n",
    "plt.title('NPS Categories Distribution')\n",
    "plt.xlabel('NPS Categories')\n",
    "plt.ylabel('Number of Responses')\n",
    "plt.show()"
   ]
  },
  {
   "cell_type": "markdown",
   "id": "f5400f2c-0455-4cc0-8d1d-8e9c641f313d",
   "metadata": {},
   "source": [
    "### Histogram"
   ]
  },
  {
   "cell_type": "code",
   "execution_count": 16,
   "id": "56479e85-115b-4edc-9893-09d5b19cc46c",
   "metadata": {},
   "outputs": [
    {
     "data": {
      "image/png": "[encoded data removed]",
      "text/plain": [
       "<Figure size 640x480 with 1 Axes>"
      ]
     },
     "metadata": {},
     "output_type": "display_data"
    }
   ],
   "source": [
    "plt.hist(df['Month'], color ='orange')\n",
    "plt.title(\"Month of feedback\")\n",
    " \n",
    "plt.show()"
   ]
  },
  {
   "cell_type": "markdown",
   "id": "aa3b0b10-1d43-40bf-aa41-8bdd755ef608",
   "metadata": {},
   "source": [
    "### Outlier estimation for NPS"
   ]
  },
  {
   "cell_type": "code",
   "execution_count": 18,
   "id": "c641726b-c776-49c1-9aaa-20569519ecbd",
   "metadata": {},
   "outputs": [],
   "source": [
    "percentile25 = df['NPS'].quantile(0.25)\n",
    "percentile75 = df['NPS'].quantile(0.75)"
   ]
  },
  {
   "cell_type": "code",
   "execution_count": 19,
   "id": "1f7ccfde-a3aa-4c78-ba4c-efe0eeded23b",
   "metadata": {},
   "outputs": [
    {
     "data": {
      "text/plain": [
       "5.0"
      ]
     },
     "execution_count": 19,
     "metadata": {},
     "output_type": "execute_result"
    }
   ],
   "source": [
    "percentile25"
   ]
  },
  {
   "cell_type": "code",
   "execution_count": 20,
   "id": "221203f6-a159-439f-be2a-8a0f798fece9",
   "metadata": {},
   "outputs": [
    {
     "data": {
      "text/plain": [
       "10.0"
      ]
     },
     "execution_count": 20,
     "metadata": {},
     "output_type": "execute_result"
    }
   ],
   "source": [
    "percentile75"
   ]
  },
  {
   "cell_type": "code",
   "execution_count": 21,
   "id": "6427045b-ebd0-48ac-9920-8a3ce856b96c",
   "metadata": {},
   "outputs": [
    {
     "data": {
      "text/plain": [
       "5.0"
      ]
     },
     "execution_count": 21,
     "metadata": {},
     "output_type": "execute_result"
    }
   ],
   "source": [
    "iqr = percentile75 - percentile25\n",
    "iqr"
   ]
  },
  {
   "cell_type": "code",
   "execution_count": 23,
   "id": "15425b58-7cb2-45f1-99e7-745f6021917b",
   "metadata": {},
   "outputs": [],
   "source": [
    "upper_limit = percentile75 + 1.5 * iqr\n",
    "lower_limit = percentile25 - 1.5 * iqr"
   ]
  },
  {
   "cell_type": "code",
   "execution_count": 24,
   "id": "0dcc68ca-ecc6-46ac-bc80-98b9902d9f00",
   "metadata": {},
   "outputs": [
    {
     "data": {
      "text/plain": [
       "17.5"
      ]
     },
     "execution_count": 24,
     "metadata": {},
     "output_type": "execute_result"
    }
   ],
   "source": [
    "upper_limit"
   ]
  },
  {
   "cell_type": "code",
   "execution_count": 25,
   "id": "27e7d081-12cd-4581-9a87-59b4c82b9fd1",
   "metadata": {},
   "outputs": [
    {
     "data": {
      "text/plain": [
       "-2.5"
      ]
     },
     "execution_count": 25,
     "metadata": {},
     "output_type": "execute_result"
    }
   ],
   "source": [
    "lower_limit"
   ]
  },
  {
   "cell_type": "markdown",
   "id": "bf5b08e9-5e14-4b1d-800d-67b7d0dd251a",
   "metadata": {},
   "source": [
    "### Detecting Outliers"
   ]
  },
  {
   "cell_type": "code",
   "execution_count": 26,
   "id": "7a091f12-9e1a-4d9c-b08e-cd3ab364a27f",
   "metadata": {},
   "outputs": [
    {
     "data": {
      "text/html": [
       "<div>\n",
       "<style scoped>\n",
       "    .dataframe tbody tr th:only-of-type {\n",
       "        vertical-align: middle;\n",
       "    }\n",
       "\n",
       "    .dataframe tbody tr th {\n",
       "        vertical-align: top;\n",
       "    }\n",
       "\n",
       "    .dataframe thead th {\n",
       "        text-align: right;\n",
       "    }\n",
       "</style>\n",
       "<table border=\"1\" class=\"dataframe\">\n",
       "  <thead>\n",
       "    <tr style=\"text-align: right;\">\n",
       "      <th></th>\n",
       "      <th>ID</th>\n",
       "      <th>Month</th>\n",
       "      <th>Quarter</th>\n",
       "      <th>NPS</th>\n",
       "    </tr>\n",
       "  </thead>\n",
       "  <tbody>\n",
       "    <tr>\n",
       "      <th>count</th>\n",
       "      <td>5000.000000</td>\n",
       "      <td>5000.000000</td>\n",
       "      <td>5000.000000</td>\n",
       "      <td>5000.00000</td>\n",
       "    </tr>\n",
       "    <tr>\n",
       "      <th>mean</th>\n",
       "      <td>3499.500000</td>\n",
       "      <td>6.496000</td>\n",
       "      <td>2.503000</td>\n",
       "      <td>6.84120</td>\n",
       "    </tr>\n",
       "    <tr>\n",
       "      <th>std</th>\n",
       "      <td>1443.520003</td>\n",
       "      <td>3.424899</td>\n",
       "      <td>1.108078</td>\n",
       "      <td>3.49228</td>\n",
       "    </tr>\n",
       "    <tr>\n",
       "      <th>min</th>\n",
       "      <td>1000.000000</td>\n",
       "      <td>1.000000</td>\n",
       "      <td>1.000000</td>\n",
       "      <td>0.00000</td>\n",
       "    </tr>\n",
       "    <tr>\n",
       "      <th>25%</th>\n",
       "      <td>2249.750000</td>\n",
       "      <td>4.000000</td>\n",
       "      <td>2.000000</td>\n",
       "      <td>5.00000</td>\n",
       "    </tr>\n",
       "    <tr>\n",
       "      <th>50%</th>\n",
       "      <td>3499.500000</td>\n",
       "      <td>7.000000</td>\n",
       "      <td>3.000000</td>\n",
       "      <td>8.00000</td>\n",
       "    </tr>\n",
       "    <tr>\n",
       "      <th>75%</th>\n",
       "      <td>4749.250000</td>\n",
       "      <td>9.000000</td>\n",
       "      <td>3.000000</td>\n",
       "      <td>10.00000</td>\n",
       "    </tr>\n",
       "    <tr>\n",
       "      <th>max</th>\n",
       "      <td>5999.000000</td>\n",
       "      <td>12.000000</td>\n",
       "      <td>4.000000</td>\n",
       "      <td>10.00000</td>\n",
       "    </tr>\n",
       "  </tbody>\n",
       "</table>\n",
       "</div>"
      ],
      "text/plain": [
       "                ID        Month      Quarter         NPS\n",
       "count  5000.000000  5000.000000  5000.000000  5000.00000\n",
       "mean   3499.500000     6.496000     2.503000     6.84120\n",
       "std    1443.520003     3.424899     1.108078     3.49228\n",
       "min    1000.000000     1.000000     1.000000     0.00000\n",
       "25%    2249.750000     4.000000     2.000000     5.00000\n",
       "50%    3499.500000     7.000000     3.000000     8.00000\n",
       "75%    4749.250000     9.000000     3.000000    10.00000\n",
       "max    5999.000000    12.000000     4.000000    10.00000"
      ]
     },
     "execution_count": 26,
     "metadata": {},
     "output_type": "execute_result"
    }
   ],
   "source": [
    "df.describe()"
   ]
  },
  {
   "cell_type": "code",
   "execution_count": 27,
   "id": "cd7722f4-257d-4574-befd-c0c3748e52b3",
   "metadata": {},
   "outputs": [
    {
     "data": {
      "text/html": [
       "<div>\n",
       "<style scoped>\n",
       "    .dataframe tbody tr th:only-of-type {\n",
       "        vertical-align: middle;\n",
       "    }\n",
       "\n",
       "    .dataframe tbody tr th {\n",
       "        vertical-align: top;\n",
       "    }\n",
       "\n",
       "    .dataframe thead th {\n",
       "        text-align: right;\n",
       "    }\n",
       "</style>\n",
       "<table border=\"1\" class=\"dataframe\">\n",
       "  <thead>\n",
       "    <tr style=\"text-align: right;\">\n",
       "      <th></th>\n",
       "      <th>ID</th>\n",
       "      <th>Market</th>\n",
       "      <th>Survey date</th>\n",
       "      <th>Customer Name</th>\n",
       "      <th>Month</th>\n",
       "      <th>Quarter</th>\n",
       "      <th>NPS</th>\n",
       "    </tr>\n",
       "  </thead>\n",
       "  <tbody>\n",
       "  </tbody>\n",
       "</table>\n",
       "</div>"
      ],
      "text/plain": [
       "Empty DataFrame\n",
       "Columns: [ID, Market, Survey date, Customer Name, Month, Quarter, NPS]\n",
       "Index: []"
      ]
     },
     "execution_count": 27,
     "metadata": {},
     "output_type": "execute_result"
    }
   ],
   "source": [
    "df[df['NPS'] > upper_limit]"
   ]
  },
  {
   "cell_type": "code",
   "execution_count": 28,
   "id": "1e72fbef-5c5a-4822-9bfe-15094252319d",
   "metadata": {},
   "outputs": [
    {
     "data": {
      "text/html": [
       "<div>\n",
       "<style scoped>\n",
       "    .dataframe tbody tr th:only-of-type {\n",
       "        vertical-align: middle;\n",
       "    }\n",
       "\n",
       "    .dataframe tbody tr th {\n",
       "        vertical-align: top;\n",
       "    }\n",
       "\n",
       "    .dataframe thead th {\n",
       "        text-align: right;\n",
       "    }\n",
       "</style>\n",
       "<table border=\"1\" class=\"dataframe\">\n",
       "  <thead>\n",
       "    <tr style=\"text-align: right;\">\n",
       "      <th></th>\n",
       "      <th>ID</th>\n",
       "      <th>Market</th>\n",
       "      <th>Survey date</th>\n",
       "      <th>Customer Name</th>\n",
       "      <th>Month</th>\n",
       "      <th>Quarter</th>\n",
       "      <th>NPS</th>\n",
       "    </tr>\n",
       "  </thead>\n",
       "  <tbody>\n",
       "  </tbody>\n",
       "</table>\n",
       "</div>"
      ],
      "text/plain": [
       "Empty DataFrame\n",
       "Columns: [ID, Market, Survey date, Customer Name, Month, Quarter, NPS]\n",
       "Index: []"
      ]
     },
     "execution_count": 28,
     "metadata": {},
     "output_type": "execute_result"
    }
   ],
   "source": [
    "df[df['NPS'] < lower_limit]"
   ]
  },
  {
   "cell_type": "code",
   "execution_count": null,
   "id": "250d392d-0e39-45f5-959e-663c6a7fbcdd",
   "metadata": {},
   "outputs": [],
   "source": [
    "## No outliers found"
   ]
  }
 ],
 "metadata": {
  "kernelspec": {
   "display_name": "Python 3 (ipykernel)",
   "language": "python",
   "name": "python3"
  },
  "language_info": {
   "codemirror_mode": {
    "name": "ipython",
    "version": 3
   },
   "file_extension": ".py",
   "mimetype": "text/x-python",
   "name": "python",
   "nbconvert_exporter": "python",
   "pygments_lexer": "ipython3",
   "version": "3.11.5"
  }
 },
 "nbformat": 4,
 "nbformat_minor": 5
}
